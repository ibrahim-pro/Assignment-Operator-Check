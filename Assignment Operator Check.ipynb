{
 "cells": [
  {
   "cell_type": "markdown",
   "metadata": {},
   "source": [
    "# Assignment Operator"
   ]
  },
  {
   "cell_type": "code",
   "execution_count": null,
   "metadata": {},
   "outputs": [],
   "source": [
    "=    Simple Assignment Operator Mean Assign the value from right to left \n",
    "+=   Add and Assignment Operator\n",
    "-=   Subtract and Assignment Operator\n",
    "*=   Multiply and Assignment Operator\n",
    "/=   Divide and Assignment Operator\n",
    "%=   Modulus and Assignment Operator\n",
    "**=  Exponent and Assignment Operator\n",
    "//=  Floor division and Assign a value"
   ]
  },
  {
   "cell_type": "code",
   "execution_count": null,
   "metadata": {},
   "outputs": [],
   "source": [
    "a = 3\n",
    "b = 4"
   ]
  },
  {
   "cell_type": "code",
   "execution_count": 2,
   "metadata": {},
   "outputs": [
    {
     "name": "stdout",
     "output_type": "stream",
     "text": [
      "a :7\n"
     ]
    }
   ],
   "source": [
    "a = 3\n",
    "b = 4                    #Add and Assignment Operator\n",
    "a+=b                     #a=a+b=3+4=7\n",
    "print (\"a :\"+str(a))"
   ]
  },
  {
   "cell_type": "code",
   "execution_count": 3,
   "metadata": {},
   "outputs": [
    {
     "name": "stdout",
     "output_type": "stream",
     "text": [
      "b :4\n"
     ]
    }
   ],
   "source": [
    "a = 3\n",
    "b = 4                   \n",
    "a+=b\n",
    "print (\"b :\"+str(b))"
   ]
  },
  {
   "cell_type": "code",
   "execution_count": 15,
   "metadata": {},
   "outputs": [
    {
     "name": "stdout",
     "output_type": "stream",
     "text": [
      "a :5\n"
     ]
    }
   ],
   "source": [
    "a = 8\n",
    "b = 3                   #Subtractand Assignment Operator\n",
    "a-=b                     #a=a-b=8-3=5\n",
    "print (\"a :\"+str(a))"
   ]
  },
  {
   "cell_type": "code",
   "execution_count": 16,
   "metadata": {},
   "outputs": [
    {
     "name": "stdout",
     "output_type": "stream",
     "text": [
      "b :3\n"
     ]
    }
   ],
   "source": [
    "a = 8\n",
    "b = 3              \n",
    "a-=b                     \n",
    "print (\"b :\"+str(b))"
   ]
  },
  {
   "cell_type": "code",
   "execution_count": 4,
   "metadata": {},
   "outputs": [
    {
     "name": "stdout",
     "output_type": "stream",
     "text": [
      "a :28\n"
     ]
    }
   ],
   "source": [
    "a = 7\n",
    "b = 4                    #Multiply and Assignment Operator\n",
    "a*=b                     #a=a*b=7*4=28\n",
    "print (\"a :\"+str(a))"
   ]
  },
  {
   "cell_type": "code",
   "execution_count": 5,
   "metadata": {},
   "outputs": [
    {
     "name": "stdout",
     "output_type": "stream",
     "text": [
      "b :4\n"
     ]
    }
   ],
   "source": [
    "a = 7\n",
    "b = 4\n",
    "a*=b\n",
    "print (\"b :\"+str(b))"
   ]
  },
  {
   "cell_type": "code",
   "execution_count": 6,
   "metadata": {},
   "outputs": [
    {
     "name": "stdout",
     "output_type": "stream",
     "text": [
      "a :7.0\n"
     ]
    }
   ],
   "source": [
    "a = 28\n",
    "b = 4                      #Divide and Assignment Operator\n",
    "a/=b                       #a=a/b=28/4=7.0\n",
    "print (\"a :\"+str(a))"
   ]
  },
  {
   "cell_type": "code",
   "execution_count": 7,
   "metadata": {},
   "outputs": [
    {
     "name": "stdout",
     "output_type": "stream",
     "text": [
      "b :4\n"
     ]
    }
   ],
   "source": [
    "a = 28\n",
    "b = 4\n",
    "a/=b\n",
    "print (\"b :\"+str(b))"
   ]
  },
  {
   "cell_type": "code",
   "execution_count": 9,
   "metadata": {},
   "outputs": [
    {
     "name": "stdout",
     "output_type": "stream",
     "text": [
      "a :3.0\n"
     ]
    }
   ],
   "source": [
    "a = 7.0\n",
    "b = 4                      #Modulus and Assignment Operator\n",
    "a%=b                       #a=a%b=7.4/4=3.0\n",
    "print(\"a :\"+str(a))"
   ]
  },
  {
   "cell_type": "code",
   "execution_count": 10,
   "metadata": {},
   "outputs": [
    {
     "name": "stdout",
     "output_type": "stream",
     "text": [
      "b :4\n"
     ]
    }
   ],
   "source": [
    "a = 7.0\n",
    "b = 4\n",
    "a%=b\n",
    "print(\"b :\"+str(b))"
   ]
  },
  {
   "cell_type": "code",
   "execution_count": 11,
   "metadata": {},
   "outputs": [
    {
     "name": "stdout",
     "output_type": "stream",
     "text": [
      "a :81.0\n"
     ]
    }
   ],
   "source": [
    "a = 3.0\n",
    "b = 4                       #Exponent and Assignment Operator\n",
    "a**=b                       #a=a%b=3.0**4=81.0\n",
    "print(\"a :\"+str(a))"
   ]
  },
  {
   "cell_type": "code",
   "execution_count": 12,
   "metadata": {},
   "outputs": [
    {
     "name": "stdout",
     "output_type": "stream",
     "text": [
      "b :4\n"
     ]
    }
   ],
   "source": [
    "a = 3.0\n",
    "b = 4                       \n",
    "a**=b                       \n",
    "print(\"b :\"+str(b))"
   ]
  },
  {
   "cell_type": "code",
   "execution_count": 13,
   "metadata": {},
   "outputs": [
    {
     "name": "stdout",
     "output_type": "stream",
     "text": [
      "a :20.0\n"
     ]
    }
   ],
   "source": [
    "a = 81.0\n",
    "b = 4                     #Floor division and Assignment Operator\n",
    "a//=b                     #a=a//b=81.0//4=20.0\n",
    "print(\"a :\"+str(a))"
   ]
  },
  {
   "cell_type": "code",
   "execution_count": 14,
   "metadata": {},
   "outputs": [
    {
     "name": "stdout",
     "output_type": "stream",
     "text": [
      "b :4\n"
     ]
    }
   ],
   "source": [
    "a = 81.0\n",
    "b = 4                     \n",
    "a//=b                     \n",
    "print(\"b :\"+str(b))"
   ]
  }
 ],
 "metadata": {
  "kernelspec": {
   "display_name": "Python 3",
   "language": "python",
   "name": "python3"
  },
  "language_info": {
   "codemirror_mode": {
    "name": "ipython",
    "version": 3
   },
   "file_extension": ".py",
   "mimetype": "text/x-python",
   "name": "python",
   "nbconvert_exporter": "python",
   "pygments_lexer": "ipython3",
   "version": "3.7.4"
  }
 },
 "nbformat": 4,
 "nbformat_minor": 2
}
